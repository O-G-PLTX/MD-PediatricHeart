{
 "cells": [
  {
   "cell_type": "markdown",
   "id": "c5800ae5",
   "metadata": {},
   "source": [
    "# 📊 Análise Exploratória - Dados UCMF_raw\n",
    "\n",
    "Este notebook apresenta a análise exploratória das 7 primeiras colunas do dataset `UCMF_raw.csv`, sob responsabilidade de Wagner Victor.  "
   ]
  },
  {
   "cell_type": "code",
<<<<<<< HEAD:notebooks/EDA/03_eda.ipynb
   "execution_count": 21,
   "id": "44bac2e1",
=======
   "execution_count": 2,
   "id": "ca7a6a55",
>>>>>>> main:notebooks/exploration/01_exploration.ipynb
   "metadata": {},
   "outputs": [],
   "source": [
    "import pandas as pd\n",
    "import numpy as np\n",
<<<<<<< HEAD:notebooks/EDA/03_eda.ipynb
=======
    "import matplotlib.pyplot as plt\n",
>>>>>>> main:notebooks/exploration/01_exploration.ipynb
    "import os"
   ]
  },
  {
   "cell_type": "code",
<<<<<<< HEAD:notebooks/EDA/03_eda.ipynb
   "execution_count": 22,
   "id": "b5757122",
=======
   "execution_count": 9,
   "id": "047cd006",
>>>>>>> main:notebooks/exploration/01_exploration.ipynb
   "metadata": {},
   "outputs": [],
   "source": [
    "from dotenv import load_dotenv\n",
    "load_dotenv()\n",
    "CSV_PATH = os.getenv(\"CSV_PATH\")"
   ]
  },
  {
   "cell_type": "code",
<<<<<<< HEAD:notebooks/EDA/03_eda.ipynb
   "execution_count": 23,
   "id": "24c7a503",
=======
   "execution_count": 10,
   "id": "a7a5b0de",
>>>>>>> main:notebooks/exploration/01_exploration.ipynb
   "metadata": {},
   "outputs": [
    {
     "data": {
      "text/html": [
       "<div>\n",
       "<style scoped>\n",
       "    .dataframe tbody tr th:only-of-type {\n",
       "        vertical-align: middle;\n",
       "    }\n",
       "\n",
       "    .dataframe tbody tr th {\n",
       "        vertical-align: top;\n",
       "    }\n",
       "\n",
       "    .dataframe thead th {\n",
       "        text-align: right;\n",
       "    }\n",
       "</style>\n",
       "<table border=\"1\" class=\"dataframe\">\n",
       "  <thead>\n",
       "    <tr style=\"text-align: right;\">\n",
       "      <th></th>\n",
       "      <th>ID</th>\n",
       "      <th>Peso</th>\n",
       "      <th>Altura</th>\n",
       "      <th>IMC</th>\n",
       "      <th>Atendimento</th>\n",
       "      <th>DN</th>\n",
       "      <th>IDADE</th>\n",
       "      <th>Convenio</th>\n",
       "      <th>PULSOS</th>\n",
       "      <th>PA SISTOLICA</th>\n",
       "      <th>...</th>\n",
       "      <th>PPA</th>\n",
       "      <th>NORMAL X ANORMAL</th>\n",
       "      <th>B2</th>\n",
       "      <th>SOPRO</th>\n",
       "      <th>FC</th>\n",
       "      <th>HDA 1</th>\n",
       "      <th>HDA2</th>\n",
       "      <th>SEXO</th>\n",
       "      <th>MOTIVO1</th>\n",
       "      <th>MOTIVO2</th>\n",
       "    </tr>\n",
       "  </thead>\n",
       "  <tbody>\n",
       "    <tr>\n",
       "      <th>0</th>\n",
       "      <td>1</td>\n",
       "      <td>5.0</td>\n",
       "      <td>51</td>\n",
       "      <td>19.0</td>\n",
       "      <td>11/05/06</td>\n",
       "      <td>30/03/06</td>\n",
       "      <td>0.12</td>\n",
       "      <td>GS</td>\n",
       "      <td>Normais</td>\n",
       "      <td>NaN</td>\n",
       "      <td>...</td>\n",
       "      <td>Não Calculado</td>\n",
       "      <td>Anormal</td>\n",
       "      <td>Normal</td>\n",
       "      <td>Sistólico</td>\n",
       "      <td>112</td>\n",
       "      <td>Palpitacao</td>\n",
       "      <td>NaN</td>\n",
       "      <td>M</td>\n",
       "      <td>6 - Suspeita de cardiopatia</td>\n",
       "      <td>6 - Palpitação/taquicardia/arritmia</td>\n",
       "    </tr>\n",
       "    <tr>\n",
       "      <th>1</th>\n",
       "      <td>2</td>\n",
       "      <td>3.5</td>\n",
       "      <td>50</td>\n",
       "      <td>14.0</td>\n",
       "      <td>25/05/05</td>\n",
       "      <td>19/05/05</td>\n",
       "      <td>0.02</td>\n",
       "      <td>GS</td>\n",
       "      <td>Normais</td>\n",
       "      <td>NaN</td>\n",
       "      <td>...</td>\n",
       "      <td>Não Calculado</td>\n",
       "      <td>Anormal</td>\n",
       "      <td>Normal</td>\n",
       "      <td>ausente</td>\n",
       "      <td>128</td>\n",
       "      <td>Dispneia</td>\n",
       "      <td>NaN</td>\n",
       "      <td>M</td>\n",
       "      <td>6 - Suspeita de cardiopatia</td>\n",
       "      <td>6 - Dispnéia</td>\n",
       "    </tr>\n",
       "    <tr>\n",
       "      <th>2</th>\n",
       "      <td>3</td>\n",
       "      <td>0.0</td>\n",
       "      <td>0</td>\n",
       "      <td>NaN</td>\n",
       "      <td>12/06/01</td>\n",
       "      <td>08/05/05</td>\n",
       "      <td>-4.05</td>\n",
       "      <td>SULA</td>\n",
       "      <td>Normais</td>\n",
       "      <td>NaN</td>\n",
       "      <td>...</td>\n",
       "      <td>Não Calculado</td>\n",
       "      <td>Anormal</td>\n",
       "      <td>Normal</td>\n",
       "      <td>Sistólico</td>\n",
       "      <td>88</td>\n",
       "      <td>Assintomático</td>\n",
       "      <td>NaN</td>\n",
       "      <td>M</td>\n",
       "      <td>2 - Check-up</td>\n",
       "      <td>NaN</td>\n",
       "    </tr>\n",
       "    <tr>\n",
       "      <th>3</th>\n",
       "      <td>4</td>\n",
       "      <td>8.1</td>\n",
       "      <td>65</td>\n",
       "      <td>19.0</td>\n",
       "      <td>15/10/09</td>\n",
       "      <td>21/04/09</td>\n",
       "      <td>0.50</td>\n",
       "      <td>NaN</td>\n",
       "      <td>Normais</td>\n",
       "      <td>NaN</td>\n",
       "      <td>...</td>\n",
       "      <td>Não Calculado</td>\n",
       "      <td>Anormal</td>\n",
       "      <td>Normal</td>\n",
       "      <td>ausente</td>\n",
       "      <td>92</td>\n",
       "      <td>Assintomático</td>\n",
       "      <td>NaN</td>\n",
       "      <td>M</td>\n",
       "      <td>5 - Parecer cardiológico</td>\n",
       "      <td>NaN</td>\n",
       "    </tr>\n",
       "    <tr>\n",
       "      <th>4</th>\n",
       "      <td>7</td>\n",
       "      <td>40.0</td>\n",
       "      <td>151</td>\n",
       "      <td>18.0</td>\n",
       "      <td>14/01/08</td>\n",
       "      <td>14/08/95</td>\n",
       "      <td>12.89</td>\n",
       "      <td>SAME</td>\n",
       "      <td>Normais</td>\n",
       "      <td>NaN</td>\n",
       "      <td>...</td>\n",
       "      <td>Não Calculado</td>\n",
       "      <td>Anormal</td>\n",
       "      <td>Normal</td>\n",
       "      <td>ausente</td>\n",
       "      <td>96</td>\n",
       "      <td>Dor precordial</td>\n",
       "      <td>NaN</td>\n",
       "      <td>M</td>\n",
       "      <td>5 - Parecer cardiológico</td>\n",
       "      <td>NaN</td>\n",
       "    </tr>\n",
       "  </tbody>\n",
       "</table>\n",
       "<p>5 rows × 21 columns</p>\n",
       "</div>"
      ],
      "text/plain": [
       "   ID  Peso  Altura   IMC Atendimento        DN  IDADE Convenio   PULSOS  \\\n",
       "0   1   5.0      51  19.0    11/05/06  30/03/06   0.12       GS  Normais   \n",
       "1   2   3.5      50  14.0    25/05/05  19/05/05   0.02       GS  Normais   \n",
       "2   3   0.0       0   NaN    12/06/01  08/05/05  -4.05     SULA  Normais   \n",
       "3   4   8.1      65  19.0    15/10/09  21/04/09   0.50      NaN  Normais   \n",
       "4   7  40.0     151  18.0    14/01/08  14/08/95  12.89     SAME  Normais   \n",
       "\n",
       "   PA SISTOLICA  ...            PPA NORMAL X ANORMAL      B2      SOPRO   FC  \\\n",
       "0           NaN  ...  Não Calculado          Anormal  Normal  Sistólico  112   \n",
       "1           NaN  ...  Não Calculado          Anormal  Normal    ausente  128   \n",
       "2           NaN  ...  Não Calculado          Anormal  Normal  Sistólico   88   \n",
       "3           NaN  ...  Não Calculado          Anormal  Normal    ausente   92   \n",
       "4           NaN  ...  Não Calculado          Anormal  Normal    ausente   96   \n",
       "\n",
       "            HDA 1 HDA2 SEXO                      MOTIVO1  \\\n",
       "0      Palpitacao  NaN    M  6 - Suspeita de cardiopatia   \n",
       "1        Dispneia  NaN    M  6 - Suspeita de cardiopatia   \n",
       "2   Assintomático  NaN    M                 2 - Check-up   \n",
       "3   Assintomático  NaN    M     5 - Parecer cardiológico   \n",
       "4  Dor precordial  NaN    M     5 - Parecer cardiológico   \n",
       "\n",
       "                               MOTIVO2  \n",
       "0  6 - Palpitação/taquicardia/arritmia  \n",
       "1                         6 - Dispnéia  \n",
       "2                                  NaN  \n",
       "3                                  NaN  \n",
       "4                                  NaN  \n",
       "\n",
       "[5 rows x 21 columns]"
      ]
     },
<<<<<<< HEAD:notebooks/EDA/03_eda.ipynb
     "execution_count": 23,
=======
     "execution_count": 10,
>>>>>>> main:notebooks/exploration/01_exploration.ipynb
     "metadata": {},
     "output_type": "execute_result"
    }
   ],
   "source": [
    "df = pd.read_csv(CSV_PATH)\n",
    "df.head()"
   ]
  },
  {
   "cell_type": "code",
<<<<<<< HEAD:notebooks/EDA/03_eda.ipynb
   "execution_count": 24,
   "id": "63842358",
=======
   "execution_count": 5,
   "id": "1bbbb710",
   "metadata": {},
   "outputs": [
    {
     "name": "stdout",
     "output_type": "stream",
     "text": [
      "Número de linhas (objetos): 12873\n",
      "Número de colunas (atributos): 21\n"
     ]
    }
   ],
   "source": [
    "# Dimensões do dataset\n",
    "print(\"Número de linhas (objetos):\", df.shape[0])\n",
    "print(\"Número de colunas (atributos):\", df.shape[1])"
   ]
  },
  {
   "cell_type": "markdown",
   "id": "7c62c1a5",
   "metadata": {},
   "source": [
    "## 📌 Seleção das Colunas\n",
    "\n",
    "As colunas que ficaram sob minha responsabilidade são as 7 primeiras do dataset original.  \n",
    "São elas: `ID`, `Peso`, `Altura`, `IMC`, `Atendimento`, `DN` e `IDADE`.\n",
    "\n",
    "Abaixo, extraímos essas colunas em um novo DataFrame chamado `df_wv`.\n"
   ]
  },
  {
   "cell_type": "code",
   "execution_count": null,
   "id": "9519e0c1",
>>>>>>> main:notebooks/exploration/01_exploration.ipynb
   "metadata": {},
   "outputs": [
    {
     "data": {
      "text/html": [
       "<div>\n",
       "<style scoped>\n",
       "    .dataframe tbody tr th:only-of-type {\n",
       "        vertical-align: middle;\n",
       "    }\n",
       "\n",
       "    .dataframe tbody tr th {\n",
       "        vertical-align: top;\n",
       "    }\n",
       "\n",
       "    .dataframe thead th {\n",
       "        text-align: right;\n",
       "    }\n",
       "</style>\n",
       "<table border=\"1\" class=\"dataframe\">\n",
       "  <thead>\n",
       "    <tr style=\"text-align: right;\">\n",
       "      <th></th>\n",
<<<<<<< HEAD:notebooks/EDA/03_eda.ipynb
       "      <th>SOPRO</th>\n",
       "      <th>FC</th>\n",
       "      <th>HDA 1</th>\n",
       "      <th>HDA2</th>\n",
       "      <th>SEXO</th>\n",
       "      <th>MOTIVO1</th>\n",
       "      <th>MOTIVO2</th>\n",
=======
       "      <th>ID</th>\n",
       "      <th>Peso</th>\n",
       "      <th>Altura</th>\n",
       "      <th>IMC</th>\n",
       "      <th>Atendimento</th>\n",
       "      <th>DN</th>\n",
       "      <th>IDADE</th>\n",
>>>>>>> main:notebooks/exploration/01_exploration.ipynb
       "    </tr>\n",
       "  </thead>\n",
       "  <tbody>\n",
       "    <tr>\n",
       "      <th>0</th>\n",
<<<<<<< HEAD:notebooks/EDA/03_eda.ipynb
       "      <td>Sistólico</td>\n",
       "      <td>112</td>\n",
       "      <td>Palpitacao</td>\n",
       "      <td>NaN</td>\n",
       "      <td>M</td>\n",
       "      <td>6 - Suspeita de cardiopatia</td>\n",
       "      <td>6 - Palpitação/taquicardia/arritmia</td>\n",
       "    </tr>\n",
       "    <tr>\n",
       "      <th>1</th>\n",
       "      <td>ausente</td>\n",
       "      <td>128</td>\n",
       "      <td>Dispneia</td>\n",
       "      <td>NaN</td>\n",
       "      <td>M</td>\n",
       "      <td>6 - Suspeita de cardiopatia</td>\n",
       "      <td>6 - Dispnéia</td>\n",
       "    </tr>\n",
       "    <tr>\n",
       "      <th>2</th>\n",
       "      <td>Sistólico</td>\n",
       "      <td>88</td>\n",
       "      <td>Assintomático</td>\n",
       "      <td>NaN</td>\n",
       "      <td>M</td>\n",
       "      <td>2 - Check-up</td>\n",
       "      <td>NaN</td>\n",
       "    </tr>\n",
       "    <tr>\n",
       "      <th>3</th>\n",
       "      <td>ausente</td>\n",
       "      <td>92</td>\n",
       "      <td>Assintomático</td>\n",
       "      <td>NaN</td>\n",
       "      <td>M</td>\n",
       "      <td>5 - Parecer cardiológico</td>\n",
       "      <td>NaN</td>\n",
       "    </tr>\n",
       "    <tr>\n",
       "      <th>4</th>\n",
       "      <td>ausente</td>\n",
       "      <td>96</td>\n",
       "      <td>Dor precordial</td>\n",
       "      <td>NaN</td>\n",
       "      <td>M</td>\n",
       "      <td>5 - Parecer cardiológico</td>\n",
       "      <td>NaN</td>\n",
=======
       "      <td>1</td>\n",
       "      <td>5.0</td>\n",
       "      <td>51</td>\n",
       "      <td>19.0</td>\n",
       "      <td>11/05/06</td>\n",
       "      <td>30/03/06</td>\n",
       "      <td>0.12</td>\n",
       "    </tr>\n",
       "    <tr>\n",
       "      <th>1</th>\n",
       "      <td>2</td>\n",
       "      <td>3.5</td>\n",
       "      <td>50</td>\n",
       "      <td>14.0</td>\n",
       "      <td>25/05/05</td>\n",
       "      <td>19/05/05</td>\n",
       "      <td>0.02</td>\n",
       "    </tr>\n",
       "    <tr>\n",
       "      <th>2</th>\n",
       "      <td>3</td>\n",
       "      <td>0.0</td>\n",
       "      <td>0</td>\n",
       "      <td>NaN</td>\n",
       "      <td>12/06/01</td>\n",
       "      <td>08/05/05</td>\n",
       "      <td>-4.05</td>\n",
       "    </tr>\n",
       "    <tr>\n",
       "      <th>3</th>\n",
       "      <td>4</td>\n",
       "      <td>8.1</td>\n",
       "      <td>65</td>\n",
       "      <td>19.0</td>\n",
       "      <td>15/10/09</td>\n",
       "      <td>21/04/09</td>\n",
       "      <td>0.50</td>\n",
       "    </tr>\n",
       "    <tr>\n",
       "      <th>4</th>\n",
       "      <td>7</td>\n",
       "      <td>40.0</td>\n",
       "      <td>151</td>\n",
       "      <td>18.0</td>\n",
       "      <td>14/01/08</td>\n",
       "      <td>14/08/95</td>\n",
       "      <td>12.89</td>\n",
>>>>>>> main:notebooks/exploration/01_exploration.ipynb
       "    </tr>\n",
       "  </tbody>\n",
       "</table>\n",
       "</div>"
      ],
      "text/plain": [
<<<<<<< HEAD:notebooks/EDA/03_eda.ipynb
       "       SOPRO   FC           HDA 1 HDA2 SEXO                      MOTIVO1  \\\n",
       "0  Sistólico  112      Palpitacao  NaN    M  6 - Suspeita de cardiopatia   \n",
       "1    ausente  128        Dispneia  NaN    M  6 - Suspeita de cardiopatia   \n",
       "2  Sistólico   88   Assintomático  NaN    M                 2 - Check-up   \n",
       "3    ausente   92   Assintomático  NaN    M     5 - Parecer cardiológico   \n",
       "4    ausente   96  Dor precordial  NaN    M     5 - Parecer cardiológico   \n",
       "\n",
       "                               MOTIVO2  \n",
       "0  6 - Palpitação/taquicardia/arritmia  \n",
       "1                         6 - Dispnéia  \n",
       "2                                  NaN  \n",
       "3                                  NaN  \n",
       "4                                  NaN  "
      ]
     },
     "execution_count": 24,
=======
       "   ID  Peso  Altura   IMC Atendimento        DN  IDADE\n",
       "0   1   5.0      51  19.0    11/05/06  30/03/06   0.12\n",
       "1   2   3.5      50  14.0    25/05/05  19/05/05   0.02\n",
       "2   3   0.0       0   NaN    12/06/01  08/05/05  -4.05\n",
       "3   4   8.1      65  19.0    15/10/09  21/04/09   0.50\n",
       "4   7  40.0     151  18.0    14/01/08  14/08/95  12.89"
      ]
     },
     "execution_count": 6,
>>>>>>> main:notebooks/exploration/01_exploration.ipynb
     "metadata": {},
     "output_type": "execute_result"
    }
   ],
   "source": [
<<<<<<< HEAD:notebooks/EDA/03_eda.ipynb
    "df_selecionado = df.iloc[:, 14:21]\n",
    "\n",
    "df_selecionado.head()"
=======
    "colunas_wv = [\"ID\", \"Peso\", \"Altura\", \"IMC\", \"Atendimento\", \"DN\", \"IDADE\"]\n",
    "df_wv = df[colunas_wv].copy()\n",
    "df_wv.head()\n"
>>>>>>> main:notebooks/exploration/01_exploration.ipynb
   ]
  },
  {
   "cell_type": "markdown",
<<<<<<< HEAD:notebooks/EDA/03_eda.ipynb
   "id": "9e9cbc74",
   "metadata": {},
   "source": [
    "### Variável SOPRO"
   ]
  },
  {
   "cell_type": "code",
   "execution_count": 25,
   "id": "48f4b0c7",
   "metadata": {},
   "outputs": [
    {
     "name": "stdout",
     "output_type": "stream",
     "text": [
      "Valores únicos da variável SOPRO\n",
      "\n",
      "SOPRO\n",
      "ausente                   7275\n",
      "Sistólico                 3648\n",
      "sistólico                  723\n",
      "contínuo                    28\n",
      "Contínuo                    20\n",
      "diastólico                   9\n",
      "Sistolico e diastólico       3\n",
      "Name: count, dtype: int64\n",
      "----------------------------------------\n",
      "\n",
      "Quantidade valores nulos na variável SOPRO: 1167\n"
     ]
    }
   ],
   "source": [
    "print(\"Valores únicos da variável SOPRO\\n\")\n",
    "print(df_selecionado['SOPRO'].value_counts())\n",
    "print('-'*40)\n",
    "print(f\"\\nQuantidade valores nulos na variável SOPRO: {df_selecionado['SOPRO'].isna().sum()}\")"
   ]
  },
  {
   "cell_type": "markdown",
   "id": "396179f3",
   "metadata": {},
   "source": [
    "### Variável FC"
   ]
  },
  {
   "cell_type": "code",
   "execution_count": 26,
   "id": "a257fe49",
   "metadata": {},
   "outputs": [
    {
     "name": "stdout",
     "output_type": "stream",
     "text": [
      "FC\n",
      "(-1.28, 1864.0]     10988\n",
      "(7432.0, 9288.0]        1\n",
      "(1864.0, 3720.0]        0\n",
      "(3720.0, 5576.0]        0\n",
      "(5576.0, 7432.0]        0\n",
      "Name: count, dtype: int64\n",
      "----------------------------------------\n",
      "\n",
      "Quantidade valores nulos na variável FC: 1884\n"
     ]
    }
   ],
   "source": [
    "df_selecionado['FC'] = pd.to_numeric(df_selecionado['FC'], errors='coerce')\n",
    "\n",
    "\n",
    "bins_fc = pd.cut(df_selecionado['FC'], bins=5)\n",
    "print(bins_fc.value_counts())\n",
    "print('-'*40)\n",
    "print(f\"\\nQuantidade valores nulos na variável FC: {df_selecionado['FC'].isna().sum()}\")"
   ]
  },
  {
   "cell_type": "markdown",
   "id": "b52fac7c",
   "metadata": {},
   "source": [
    "### Variável HDA 1"
=======
   "id": "2cc2445a",
   "metadata": {},
   "source": [
    "## ⚖️ Análise da Coluna: Peso\n",
    "\n",
    "Vamos explorar os valores de peso dos pacientes, identificando registros inválidos, nulos e fora do padrão.\n"
   ]
  },
  {
   "cell_type": "code",
   "execution_count": 41,
   "id": "4cddfc2a",
   "metadata": {},
   "outputs": [],
   "source": [
    "df_wv[\"Peso\"] = df_wv[\"Peso\"].replace(0, np.nan)"
   ]
  },
  {
   "cell_type": "code",
   "execution_count": 42,
   "id": "bc18ac44",
   "metadata": {},
   "outputs": [
    {
     "data": {
      "text/plain": [
       "count    9946.000000\n",
       "mean       20.972652\n",
       "std        16.508733\n",
       "min       -40.000000\n",
       "25%         9.025000\n",
       "50%        16.000000\n",
       "75%        28.000000\n",
       "max       157.000000\n",
       "Name: Peso, dtype: float64"
      ]
     },
     "execution_count": 42,
     "metadata": {},
     "output_type": "execute_result"
    }
   ],
   "source": [
    "df_wv[\"Peso\"].describe()"
   ]
  },
  {
   "cell_type": "code",
   "execution_count": 43,
   "id": "030aac11",
   "metadata": {},
   "outputs": [
    {
     "data": {
      "text/plain": [
       "np.int64(2927)"
      ]
     },
     "execution_count": 43,
     "metadata": {},
     "output_type": "execute_result"
    }
   ],
   "source": [
    "df_wv[\"Peso\"].isna().sum()"
   ]
  },
  {
   "cell_type": "code",
   "execution_count": 47,
   "id": "f819b1ba",
   "metadata": {},
   "outputs": [
    {
     "data": {
      "image/png": "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",
      "text/plain": [
       "<Figure size 640x480 with 1 Axes>"
      ]
     },
     "metadata": {},
     "output_type": "display_data"
    }
   ],
   "source": [
    "plt.hist(df_wv[\"Peso\"].dropna(), bins=30, edgecolor=\"black\")\n",
    "plt.xlabel(\"Peso (kg)\")\n",
    "plt.ylabel(\"Frequência\")\n",
    "plt.title(\"Distribuição do Peso (sem valores 0)\")\n",
    "plt.grid(True)\n",
    "plt.show()\n"
   ]
  },
  {
   "cell_type": "markdown",
   "id": "f0e52dcf",
   "metadata": {},
   "source": [
    "## 📏 Análise da Coluna: Altura\n",
    "\n",
    "Vamos investigar a coluna `Altura`, identificando valores inválidos como 0 cm ou fora do padrão esperado.\n"
>>>>>>> main:notebooks/exploration/01_exploration.ipynb
   ]
  },
  {
   "cell_type": "code",
<<<<<<< HEAD:notebooks/EDA/03_eda.ipynb
   "execution_count": 27,
   "id": "cdb52638",
=======
   "execution_count": null,
   "id": "ad4b6810",
>>>>>>> main:notebooks/exploration/01_exploration.ipynb
   "metadata": {},
   "outputs": [
    {
     "name": "stdout",
     "output_type": "stream",
     "text": [
<<<<<<< HEAD:notebooks/EDA/03_eda.ipynb
      "Valores únicos da variável HDA 1\n",
      "\n",
      "HDA 1\n",
      "Assintomático      6561\n",
      "Dispneia            541\n",
      "Dor precordial      508\n",
      "Palpitacao          365\n",
      "Cianose             260\n",
      "Desmaio/tontura     157\n",
      "Outro               124\n",
      "Ganho de peso        87\n",
      "Name: count, dtype: int64\n",
      "----------------------------------------\n",
      "\n",
      "Quantidade valores nulos na variável HDA 1: 4270\n"
=======
      "Altura = 0: 4460\n",
      "Altura < 0: 0\n"
>>>>>>> main:notebooks/exploration/01_exploration.ipynb
     ]
    }
   ],
   "source": [
<<<<<<< HEAD:notebooks/EDA/03_eda.ipynb
    "print(\"Valores únicos da variável HDA 1\\n\")\n",
    "print(df_selecionado['HDA 1'].value_counts())\n",
    "print('-'*40)\n",
    "print(f\"\\nQuantidade valores nulos na variável HDA 1: {df_selecionado['HDA 1'].isna().sum()}\")"
   ]
  },
  {
   "cell_type": "markdown",
   "id": "6583ff2f",
   "metadata": {},
   "source": [
    "### Variável HDA2"
=======
    "print(\"Altura = 0:\", df_wv[df_wv[\"Altura\"] == 0].shape[0])\n",
    "print(\"Altura < 0:\", df_wv[df_wv[\"Altura\"] < 0].shape[0])\n"
>>>>>>> main:notebooks/exploration/01_exploration.ipynb
   ]
  },
  {
   "cell_type": "code",
<<<<<<< HEAD:notebooks/EDA/03_eda.ipynb
   "execution_count": 28,
   "id": "6c4e6e1d",
   "metadata": {},
   "outputs": [
    {
     "name": "stdout",
     "output_type": "stream",
     "text": [
      "Valores únicos da variável HDA2\n",
      "\n",
      "HDA2\n",
      "Dispneia           83\n",
      "Palpitacao         83\n",
      "Dor precordial     65\n",
      "Cianose            65\n",
      "Desmaio/tontura    50\n",
      "Outro              41\n",
      "Ganho de peso      19\n",
      "Assintomático       1\n",
      "Name: count, dtype: int64\n",
      "----------------------------------------\n",
      "\n",
      "Quantidade valores nulos na variável HDA2: 12466\n"
     ]
    }
   ],
   "source": [
    "print(\"Valores únicos da variável HDA2\\n\")\n",
    "print(df_selecionado['HDA2'].value_counts())\n",
    "print('-'*40)\n",
    "print(f\"\\nQuantidade valores nulos na variável HDA2: {df_selecionado['HDA2'].isna().sum()}\")"
   ]
  },
  {
   "cell_type": "markdown",
   "id": "c7692b8b",
   "metadata": {},
   "source": [
    "### Variável SEXO"
=======
   "execution_count": 50,
   "id": "f18db5d7",
   "metadata": {},
   "outputs": [],
   "source": [
    "df_wv[\"Altura\"] = df_wv[\"Altura\"].replace(0, np.nan)"
>>>>>>> main:notebooks/exploration/01_exploration.ipynb
   ]
  },
  {
   "cell_type": "code",
<<<<<<< HEAD:notebooks/EDA/03_eda.ipynb
   "execution_count": 29,
   "id": "7be3cd26",
   "metadata": {},
   "outputs": [
    {
     "name": "stdout",
     "output_type": "stream",
     "text": [
      "Valores únicos da variável SEXO\n",
      "\n",
      "SEXO\n",
      "M                6065\n",
      "F                4477\n",
      "Indeterminado    1417\n",
      "Masculino         584\n",
      "Feminino          247\n",
      "masculino          79\n",
      "Name: count, dtype: int64\n",
      "----------------------------------------\n",
      "\n",
      "Quantidade valores nulos na variável SEXO: 4\n"
     ]
    }
   ],
   "source": [
    "print(\"Valores únicos da variável SEXO\\n\")\n",
    "print(df_selecionado['SEXO'].value_counts())\n",
    "print('-'*40)\n",
    "print(f\"\\nQuantidade valores nulos na variável SEXO: {df_selecionado['SEXO'].isna().sum()}\")"
   ]
  },
  {
   "cell_type": "markdown",
   "id": "6ef3fb30",
   "metadata": {},
   "source": [
    "### Variável MOTIVO1"
   ]
  },
  {
   "cell_type": "markdown",
   "id": "4b6cd31d",
   "metadata": {},
   "source": [
    "print(\"Valores únicos da variável HDA2\\n\")\n",
    "print(df_selecionado['HDA2'].value_counts())\n",
    "print('-'*40)\n",
    "print(f\"\\nQuantidade valores nulos na variável HDA2: {df_selecionado['HDA2'].isna().sum()}\")"
   ]
  },
  {
   "cell_type": "markdown",
   "id": "62068bc2",
   "metadata": {},
   "source": [
    "### Variável MOTIVO2"
=======
   "execution_count": 51,
   "id": "93aeb8d0",
   "metadata": {},
   "outputs": [
    {
     "data": {
      "text/plain": [
       "count    8413.000000\n",
       "mean      101.159277\n",
       "std        35.463332\n",
       "min        10.000000\n",
       "25%        71.000000\n",
       "50%       100.000000\n",
       "75%       129.000000\n",
       "max       198.000000\n",
       "Name: Altura, dtype: float64"
      ]
     },
     "execution_count": 51,
     "metadata": {},
     "output_type": "execute_result"
    }
   ],
   "source": [
    "df_wv[\"Altura\"].describe()"
   ]
  },
  {
   "cell_type": "code",
   "execution_count": null,
   "id": "d69e3e94",
   "metadata": {},
   "outputs": [
    {
     "data": {
      "text/plain": [
       "array([  0,  10,  11,  12,  15,  16,  19,  31,  33,  36,  37,  38,  39,\n",
       "        40,  41,  42,  43,  44,  45,  46,  47,  48,  49,  50,  51,  52,\n",
       "        53,  54,  55,  56,  57,  58,  59,  60,  61,  62,  63,  64,  65,\n",
       "        66,  67,  68,  69,  70,  71,  72,  73,  74,  75,  76,  77,  78,\n",
       "        79,  80,  81,  82,  83,  84,  85,  86,  87,  88,  89,  90,  91,\n",
       "        92,  93,  94,  95,  96,  97,  98,  99, 100, 101, 102, 103, 104,\n",
       "       105, 106, 107, 108, 109, 110, 111, 112, 113, 114, 115, 116, 117,\n",
       "       118, 119, 120, 121, 122, 123, 124, 125, 126, 127, 128, 129, 130,\n",
       "       131, 132, 133, 134, 135, 136, 137, 138, 139, 140, 141, 142, 143,\n",
       "       144, 145, 146, 147, 148, 149, 150, 151, 152, 153, 154, 155, 156,\n",
       "       157, 158, 159, 160, 161, 162, 163, 164, 165, 166, 167, 168, 169,\n",
       "       170, 171, 172, 173, 174, 175, 176, 177, 178, 179, 180, 181, 182,\n",
       "       183, 184, 185, 186, 187, 189, 190, 197, 198])"
      ]
     },
     "execution_count": 35,
     "metadata": {},
     "output_type": "execute_result"
    }
   ],
   "source": [
    "df_wv[\"Altura\"].sort_values().unique()"
   ]
  },
  {
   "cell_type": "code",
   "execution_count": 54,
   "id": "b8633179",
   "metadata": {},
   "outputs": [
    {
     "data": {
      "image/png": "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",
      "text/plain": [
       "<Figure size 640x480 with 1 Axes>"
      ]
     },
     "metadata": {},
     "output_type": "display_data"
    }
   ],
   "source": [
    "# Histograma da Altura\n",
    "plt.hist(df_wv[\"Altura\"].dropna(), bins=30, edgecolor=\"black\")\n",
    "plt.xlabel(\"Altura (cm)\")\n",
    "plt.ylabel(\"Frequência\")\n",
    "plt.title(\"Distribuição da Altura\")\n",
    "plt.grid(True)\n",
    "plt.show()\n"
>>>>>>> main:notebooks/exploration/01_exploration.ipynb
   ]
  }
 ],
 "metadata": {
  "kernelspec": {
   "display_name": ".venv (3.12.3)",
   "language": "python",
   "name": "python3"
  },
  "language_info": {
   "codemirror_mode": {
    "name": "ipython",
    "version": 3
   },
   "file_extension": ".py",
   "mimetype": "text/x-python",
   "name": "python",
   "nbconvert_exporter": "python",
   "pygments_lexer": "ipython3",
   "version": "3.12.3"
  }
 },
 "nbformat": 4,
 "nbformat_minor": 5
}
