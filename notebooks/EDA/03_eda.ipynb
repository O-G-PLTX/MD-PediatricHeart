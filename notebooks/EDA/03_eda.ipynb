{
 "cells": [
  {
   "cell_type": "code",
   "execution_count": 21,
   "id": "44bac2e1",
   "metadata": {},
   "outputs": [],
   "source": [
    "import pandas as pd\n",
    "import numpy as np\n",
    "import os"
   ]
  },
  {
   "cell_type": "code",
   "execution_count": 22,
   "id": "b5757122",
   "metadata": {},
   "outputs": [],
   "source": [
    "from dotenv import load_dotenv\n",
    "load_dotenv()\n",
    "CSV_PATH = os.getenv(\"CSV_PATH\")"
   ]
  },
  {
   "cell_type": "code",
   "execution_count": 23,
   "id": "24c7a503",
   "metadata": {},
   "outputs": [
    {
     "data": {
      "text/html": [
       "<div>\n",
       "<style scoped>\n",
       "    .dataframe tbody tr th:only-of-type {\n",
       "        vertical-align: middle;\n",
       "    }\n",
       "\n",
       "    .dataframe tbody tr th {\n",
       "        vertical-align: top;\n",
       "    }\n",
       "\n",
       "    .dataframe thead th {\n",
       "        text-align: right;\n",
       "    }\n",
       "</style>\n",
       "<table border=\"1\" class=\"dataframe\">\n",
       "  <thead>\n",
       "    <tr style=\"text-align: right;\">\n",
       "      <th></th>\n",
       "      <th>ID</th>\n",
       "      <th>Peso</th>\n",
       "      <th>Altura</th>\n",
       "      <th>IMC</th>\n",
       "      <th>Atendimento</th>\n",
       "      <th>DN</th>\n",
       "      <th>IDADE</th>\n",
       "      <th>Convenio</th>\n",
       "      <th>PULSOS</th>\n",
       "      <th>PA SISTOLICA</th>\n",
       "      <th>...</th>\n",
       "      <th>PPA</th>\n",
       "      <th>NORMAL X ANORMAL</th>\n",
       "      <th>B2</th>\n",
       "      <th>SOPRO</th>\n",
       "      <th>FC</th>\n",
       "      <th>HDA 1</th>\n",
       "      <th>HDA2</th>\n",
       "      <th>SEXO</th>\n",
       "      <th>MOTIVO1</th>\n",
       "      <th>MOTIVO2</th>\n",
       "    </tr>\n",
       "  </thead>\n",
       "  <tbody>\n",
       "    <tr>\n",
       "      <th>0</th>\n",
       "      <td>1</td>\n",
       "      <td>5.0</td>\n",
       "      <td>51</td>\n",
       "      <td>19.0</td>\n",
       "      <td>11/05/06</td>\n",
       "      <td>30/03/06</td>\n",
       "      <td>0.12</td>\n",
       "      <td>GS</td>\n",
       "      <td>Normais</td>\n",
       "      <td>NaN</td>\n",
       "      <td>...</td>\n",
       "      <td>Não Calculado</td>\n",
       "      <td>Anormal</td>\n",
       "      <td>Normal</td>\n",
       "      <td>Sistólico</td>\n",
       "      <td>112</td>\n",
       "      <td>Palpitacao</td>\n",
       "      <td>NaN</td>\n",
       "      <td>M</td>\n",
       "      <td>6 - Suspeita de cardiopatia</td>\n",
       "      <td>6 - Palpitação/taquicardia/arritmia</td>\n",
       "    </tr>\n",
       "    <tr>\n",
       "      <th>1</th>\n",
       "      <td>2</td>\n",
       "      <td>3.5</td>\n",
       "      <td>50</td>\n",
       "      <td>14.0</td>\n",
       "      <td>25/05/05</td>\n",
       "      <td>19/05/05</td>\n",
       "      <td>0.02</td>\n",
       "      <td>GS</td>\n",
       "      <td>Normais</td>\n",
       "      <td>NaN</td>\n",
       "      <td>...</td>\n",
       "      <td>Não Calculado</td>\n",
       "      <td>Anormal</td>\n",
       "      <td>Normal</td>\n",
       "      <td>ausente</td>\n",
       "      <td>128</td>\n",
       "      <td>Dispneia</td>\n",
       "      <td>NaN</td>\n",
       "      <td>M</td>\n",
       "      <td>6 - Suspeita de cardiopatia</td>\n",
       "      <td>6 - Dispnéia</td>\n",
       "    </tr>\n",
       "    <tr>\n",
       "      <th>2</th>\n",
       "      <td>3</td>\n",
       "      <td>0.0</td>\n",
       "      <td>0</td>\n",
       "      <td>NaN</td>\n",
       "      <td>12/06/01</td>\n",
       "      <td>08/05/05</td>\n",
       "      <td>-4.05</td>\n",
       "      <td>SULA</td>\n",
       "      <td>Normais</td>\n",
       "      <td>NaN</td>\n",
       "      <td>...</td>\n",
       "      <td>Não Calculado</td>\n",
       "      <td>Anormal</td>\n",
       "      <td>Normal</td>\n",
       "      <td>Sistólico</td>\n",
       "      <td>88</td>\n",
       "      <td>Assintomático</td>\n",
       "      <td>NaN</td>\n",
       "      <td>M</td>\n",
       "      <td>2 - Check-up</td>\n",
       "      <td>NaN</td>\n",
       "    </tr>\n",
       "    <tr>\n",
       "      <th>3</th>\n",
       "      <td>4</td>\n",
       "      <td>8.1</td>\n",
       "      <td>65</td>\n",
       "      <td>19.0</td>\n",
       "      <td>15/10/09</td>\n",
       "      <td>21/04/09</td>\n",
       "      <td>0.50</td>\n",
       "      <td>NaN</td>\n",
       "      <td>Normais</td>\n",
       "      <td>NaN</td>\n",
       "      <td>...</td>\n",
       "      <td>Não Calculado</td>\n",
       "      <td>Anormal</td>\n",
       "      <td>Normal</td>\n",
       "      <td>ausente</td>\n",
       "      <td>92</td>\n",
       "      <td>Assintomático</td>\n",
       "      <td>NaN</td>\n",
       "      <td>M</td>\n",
       "      <td>5 - Parecer cardiológico</td>\n",
       "      <td>NaN</td>\n",
       "    </tr>\n",
       "    <tr>\n",
       "      <th>4</th>\n",
       "      <td>7</td>\n",
       "      <td>40.0</td>\n",
       "      <td>151</td>\n",
       "      <td>18.0</td>\n",
       "      <td>14/01/08</td>\n",
       "      <td>14/08/95</td>\n",
       "      <td>12.89</td>\n",
       "      <td>SAME</td>\n",
       "      <td>Normais</td>\n",
       "      <td>NaN</td>\n",
       "      <td>...</td>\n",
       "      <td>Não Calculado</td>\n",
       "      <td>Anormal</td>\n",
       "      <td>Normal</td>\n",
       "      <td>ausente</td>\n",
       "      <td>96</td>\n",
       "      <td>Dor precordial</td>\n",
       "      <td>NaN</td>\n",
       "      <td>M</td>\n",
       "      <td>5 - Parecer cardiológico</td>\n",
       "      <td>NaN</td>\n",
       "    </tr>\n",
       "  </tbody>\n",
       "</table>\n",
       "<p>5 rows × 21 columns</p>\n",
       "</div>"
      ],
      "text/plain": [
       "   ID  Peso  Altura   IMC Atendimento        DN  IDADE Convenio   PULSOS  \\\n",
       "0   1   5.0      51  19.0    11/05/06  30/03/06   0.12       GS  Normais   \n",
       "1   2   3.5      50  14.0    25/05/05  19/05/05   0.02       GS  Normais   \n",
       "2   3   0.0       0   NaN    12/06/01  08/05/05  -4.05     SULA  Normais   \n",
       "3   4   8.1      65  19.0    15/10/09  21/04/09   0.50      NaN  Normais   \n",
       "4   7  40.0     151  18.0    14/01/08  14/08/95  12.89     SAME  Normais   \n",
       "\n",
       "   PA SISTOLICA  ...            PPA NORMAL X ANORMAL      B2      SOPRO   FC  \\\n",
       "0           NaN  ...  Não Calculado          Anormal  Normal  Sistólico  112   \n",
       "1           NaN  ...  Não Calculado          Anormal  Normal    ausente  128   \n",
       "2           NaN  ...  Não Calculado          Anormal  Normal  Sistólico   88   \n",
       "3           NaN  ...  Não Calculado          Anormal  Normal    ausente   92   \n",
       "4           NaN  ...  Não Calculado          Anormal  Normal    ausente   96   \n",
       "\n",
       "            HDA 1 HDA2 SEXO                      MOTIVO1  \\\n",
       "0      Palpitacao  NaN    M  6 - Suspeita de cardiopatia   \n",
       "1        Dispneia  NaN    M  6 - Suspeita de cardiopatia   \n",
       "2   Assintomático  NaN    M                 2 - Check-up   \n",
       "3   Assintomático  NaN    M     5 - Parecer cardiológico   \n",
       "4  Dor precordial  NaN    M     5 - Parecer cardiológico   \n",
       "\n",
       "                               MOTIVO2  \n",
       "0  6 - Palpitação/taquicardia/arritmia  \n",
       "1                         6 - Dispnéia  \n",
       "2                                  NaN  \n",
       "3                                  NaN  \n",
       "4                                  NaN  \n",
       "\n",
       "[5 rows x 21 columns]"
      ]
     },
     "execution_count": 23,
     "metadata": {},
     "output_type": "execute_result"
    }
   ],
   "source": [
    "df = pd.read_csv(CSV_PATH)\n",
    "df.head()"
   ]
  },
  {
   "cell_type": "code",
   "execution_count": 24,
   "id": "63842358",
   "metadata": {},
   "outputs": [
    {
     "data": {
      "text/html": [
       "<div>\n",
       "<style scoped>\n",
       "    .dataframe tbody tr th:only-of-type {\n",
       "        vertical-align: middle;\n",
       "    }\n",
       "\n",
       "    .dataframe tbody tr th {\n",
       "        vertical-align: top;\n",
       "    }\n",
       "\n",
       "    .dataframe thead th {\n",
       "        text-align: right;\n",
       "    }\n",
       "</style>\n",
       "<table border=\"1\" class=\"dataframe\">\n",
       "  <thead>\n",
       "    <tr style=\"text-align: right;\">\n",
       "      <th></th>\n",
       "      <th>SOPRO</th>\n",
       "      <th>FC</th>\n",
       "      <th>HDA 1</th>\n",
       "      <th>HDA2</th>\n",
       "      <th>SEXO</th>\n",
       "      <th>MOTIVO1</th>\n",
       "      <th>MOTIVO2</th>\n",
       "    </tr>\n",
       "  </thead>\n",
       "  <tbody>\n",
       "    <tr>\n",
       "      <th>0</th>\n",
       "      <td>Sistólico</td>\n",
       "      <td>112</td>\n",
       "      <td>Palpitacao</td>\n",
       "      <td>NaN</td>\n",
       "      <td>M</td>\n",
       "      <td>6 - Suspeita de cardiopatia</td>\n",
       "      <td>6 - Palpitação/taquicardia/arritmia</td>\n",
       "    </tr>\n",
       "    <tr>\n",
       "      <th>1</th>\n",
       "      <td>ausente</td>\n",
       "      <td>128</td>\n",
       "      <td>Dispneia</td>\n",
       "      <td>NaN</td>\n",
       "      <td>M</td>\n",
       "      <td>6 - Suspeita de cardiopatia</td>\n",
       "      <td>6 - Dispnéia</td>\n",
       "    </tr>\n",
       "    <tr>\n",
       "      <th>2</th>\n",
       "      <td>Sistólico</td>\n",
       "      <td>88</td>\n",
       "      <td>Assintomático</td>\n",
       "      <td>NaN</td>\n",
       "      <td>M</td>\n",
       "      <td>2 - Check-up</td>\n",
       "      <td>NaN</td>\n",
       "    </tr>\n",
       "    <tr>\n",
       "      <th>3</th>\n",
       "      <td>ausente</td>\n",
       "      <td>92</td>\n",
       "      <td>Assintomático</td>\n",
       "      <td>NaN</td>\n",
       "      <td>M</td>\n",
       "      <td>5 - Parecer cardiológico</td>\n",
       "      <td>NaN</td>\n",
       "    </tr>\n",
       "    <tr>\n",
       "      <th>4</th>\n",
       "      <td>ausente</td>\n",
       "      <td>96</td>\n",
       "      <td>Dor precordial</td>\n",
       "      <td>NaN</td>\n",
       "      <td>M</td>\n",
       "      <td>5 - Parecer cardiológico</td>\n",
       "      <td>NaN</td>\n",
       "    </tr>\n",
       "  </tbody>\n",
       "</table>\n",
       "</div>"
      ],
      "text/plain": [
       "       SOPRO   FC           HDA 1 HDA2 SEXO                      MOTIVO1  \\\n",
       "0  Sistólico  112      Palpitacao  NaN    M  6 - Suspeita de cardiopatia   \n",
       "1    ausente  128        Dispneia  NaN    M  6 - Suspeita de cardiopatia   \n",
       "2  Sistólico   88   Assintomático  NaN    M                 2 - Check-up   \n",
       "3    ausente   92   Assintomático  NaN    M     5 - Parecer cardiológico   \n",
       "4    ausente   96  Dor precordial  NaN    M     5 - Parecer cardiológico   \n",
       "\n",
       "                               MOTIVO2  \n",
       "0  6 - Palpitação/taquicardia/arritmia  \n",
       "1                         6 - Dispnéia  \n",
       "2                                  NaN  \n",
       "3                                  NaN  \n",
       "4                                  NaN  "
      ]
     },
     "execution_count": 24,
     "metadata": {},
     "output_type": "execute_result"
    }
   ],
   "source": [
    "df_selecionado = df.iloc[:, 14:21]\n",
    "\n",
    "df_selecionado.head()"
   ]
  },
  {
   "cell_type": "markdown",
   "id": "9e9cbc74",
   "metadata": {},
   "source": [
    "### Variável SOPRO"
   ]
  },
  {
   "cell_type": "code",
   "execution_count": 25,
   "id": "48f4b0c7",
   "metadata": {},
   "outputs": [
    {
     "name": "stdout",
     "output_type": "stream",
     "text": [
      "Valores únicos da variável SOPRO\n",
      "\n",
      "SOPRO\n",
      "ausente                   7275\n",
      "Sistólico                 3648\n",
      "sistólico                  723\n",
      "contínuo                    28\n",
      "Contínuo                    20\n",
      "diastólico                   9\n",
      "Sistolico e diastólico       3\n",
      "Name: count, dtype: int64\n",
      "----------------------------------------\n",
      "\n",
      "Quantidade valores nulos na variável SOPRO: 1167\n"
     ]
    }
   ],
   "source": [
    "print(\"Valores únicos da variável SOPRO\\n\")\n",
    "print(df_selecionado['SOPRO'].value_counts())\n",
    "print('-'*40)\n",
    "print(f\"\\nQuantidade valores nulos na variável SOPRO: {df_selecionado['SOPRO'].isna().sum()}\")"
   ]
  },
  {
   "cell_type": "markdown",
   "id": "396179f3",
   "metadata": {},
   "source": [
    "### Variável FC"
   ]
  },
  {
   "cell_type": "code",
   "execution_count": 26,
   "id": "a257fe49",
   "metadata": {},
   "outputs": [
    {
     "name": "stdout",
     "output_type": "stream",
     "text": [
      "FC\n",
      "(-1.28, 1864.0]     10988\n",
      "(7432.0, 9288.0]        1\n",
      "(1864.0, 3720.0]        0\n",
      "(3720.0, 5576.0]        0\n",
      "(5576.0, 7432.0]        0\n",
      "Name: count, dtype: int64\n",
      "----------------------------------------\n",
      "\n",
      "Quantidade valores nulos na variável FC: 1884\n"
     ]
    }
   ],
   "source": [
    "df_selecionado['FC'] = pd.to_numeric(df_selecionado['FC'], errors='coerce')\n",
    "\n",
    "\n",
    "bins_fc = pd.cut(df_selecionado['FC'], bins=5)\n",
    "print(bins_fc.value_counts())\n",
    "print('-'*40)\n",
    "print(f\"\\nQuantidade valores nulos na variável FC: {df_selecionado['FC'].isna().sum()}\")"
   ]
  },
  {
   "cell_type": "markdown",
   "id": "b52fac7c",
   "metadata": {},
   "source": [
    "### Variável HDA 1"
   ]
  },
  {
   "cell_type": "code",
   "execution_count": 27,
   "id": "cdb52638",
   "metadata": {},
   "outputs": [
    {
     "name": "stdout",
     "output_type": "stream",
     "text": [
      "Valores únicos da variável HDA 1\n",
      "\n",
      "HDA 1\n",
      "Assintomático      6561\n",
      "Dispneia            541\n",
      "Dor precordial      508\n",
      "Palpitacao          365\n",
      "Cianose             260\n",
      "Desmaio/tontura     157\n",
      "Outro               124\n",
      "Ganho de peso        87\n",
      "Name: count, dtype: int64\n",
      "----------------------------------------\n",
      "\n",
      "Quantidade valores nulos na variável HDA 1: 4270\n"
     ]
    }
   ],
   "source": [
    "print(\"Valores únicos da variável HDA 1\\n\")\n",
    "print(df_selecionado['HDA 1'].value_counts())\n",
    "print('-'*40)\n",
    "print(f\"\\nQuantidade valores nulos na variável HDA 1: {df_selecionado['HDA 1'].isna().sum()}\")"
   ]
  },
  {
   "cell_type": "markdown",
   "id": "6583ff2f",
   "metadata": {},
   "source": [
    "### Variável HDA2"
   ]
  },
  {
   "cell_type": "code",
   "execution_count": 28,
   "id": "6c4e6e1d",
   "metadata": {},
   "outputs": [
    {
     "name": "stdout",
     "output_type": "stream",
     "text": [
      "Valores únicos da variável HDA2\n",
      "\n",
      "HDA2\n",
      "Dispneia           83\n",
      "Palpitacao         83\n",
      "Dor precordial     65\n",
      "Cianose            65\n",
      "Desmaio/tontura    50\n",
      "Outro              41\n",
      "Ganho de peso      19\n",
      "Assintomático       1\n",
      "Name: count, dtype: int64\n",
      "----------------------------------------\n",
      "\n",
      "Quantidade valores nulos na variável HDA2: 12466\n"
     ]
    }
   ],
   "source": [
    "print(\"Valores únicos da variável HDA2\\n\")\n",
    "print(df_selecionado['HDA2'].value_counts())\n",
    "print('-'*40)\n",
    "print(f\"\\nQuantidade valores nulos na variável HDA2: {df_selecionado['HDA2'].isna().sum()}\")"
   ]
  },
  {
   "cell_type": "markdown",
   "id": "c7692b8b",
   "metadata": {},
   "source": [
    "### Variável SEXO"
   ]
  },
  {
   "cell_type": "code",
   "execution_count": 29,
   "id": "7be3cd26",
   "metadata": {},
   "outputs": [
    {
     "name": "stdout",
     "output_type": "stream",
     "text": [
      "Valores únicos da variável SEXO\n",
      "\n",
      "SEXO\n",
      "M                6065\n",
      "F                4477\n",
      "Indeterminado    1417\n",
      "Masculino         584\n",
      "Feminino          247\n",
      "masculino          79\n",
      "Name: count, dtype: int64\n",
      "----------------------------------------\n",
      "\n",
      "Quantidade valores nulos na variável SEXO: 4\n"
     ]
    }
   ],
   "source": [
    "print(\"Valores únicos da variável SEXO\\n\")\n",
    "print(df_selecionado['SEXO'].value_counts())\n",
    "print('-'*40)\n",
    "print(f\"\\nQuantidade valores nulos na variável SEXO: {df_selecionado['SEXO'].isna().sum()}\")"
   ]
  },
  {
   "cell_type": "markdown",
   "id": "6ef3fb30",
   "metadata": {},
   "source": [
    "### Variável MOTIVO1"
   ]
  },
  {
   "cell_type": "markdown",
   "id": "4b6cd31d",
   "metadata": {},
   "source": [
    "print(\"Valores únicos da variável HDA2\\n\")\n",
    "print(df_selecionado['HDA2'].value_counts())\n",
    "print('-'*40)\n",
    "print(f\"\\nQuantidade valores nulos na variável HDA2: {df_selecionado['HDA2'].isna().sum()}\")"
   ]
  },
  {
   "cell_type": "markdown",
   "id": "62068bc2",
   "metadata": {},
   "source": [
    "### Variável MOTIVO2"
   ]
  }
 ],
 "metadata": {
  "kernelspec": {
   "display_name": ".venv (3.12.3)",
   "language": "python",
   "name": "python3"
  },
  "language_info": {
   "codemirror_mode": {
    "name": "ipython",
    "version": 3
   },
   "file_extension": ".py",
   "mimetype": "text/x-python",
   "name": "python",
   "nbconvert_exporter": "python",
   "pygments_lexer": "ipython3",
   "version": "3.12.3"
  }
 },
 "nbformat": 4,
 "nbformat_minor": 5
}
