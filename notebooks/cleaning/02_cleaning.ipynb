{
 "cells": [
  {
   "cell_type": "code",
   "execution_count": 28,
   "id": "ca7a6a55",
   "metadata": {},
   "outputs": [],
   "source": [
    "import pandas as pd\n",
    "import numpy as np\n",
    "import matplotlib.pyplot as plts\n",
    "import os"
   ]
  },
  {
   "cell_type": "code",
   "execution_count": 29,
   "id": "047cd006",
   "metadata": {},
   "outputs": [],
   "source": [
    "from dotenv import load_dotenv\n",
    "load_dotenv()\n",
    "CSV_PATH = os.getenv(\"CSV_PATH\")"
   ]
  },
  {
   "cell_type": "code",
   "execution_count": 30,
   "id": "a7a5b0de",
   "metadata": {},
   "outputs": [
    {
     "data": {
      "text/html": [
       "<div>\n",
       "<style scoped>\n",
       "    .dataframe tbody tr th:only-of-type {\n",
       "        vertical-align: middle;\n",
       "    }\n",
       "\n",
       "    .dataframe tbody tr th {\n",
       "        vertical-align: top;\n",
       "    }\n",
       "\n",
       "    .dataframe thead th {\n",
       "        text-align: right;\n",
       "    }\n",
       "</style>\n",
       "<table border=\"1\" class=\"dataframe\">\n",
       "  <thead>\n",
       "    <tr style=\"text-align: right;\">\n",
       "      <th></th>\n",
       "      <th>ID</th>\n",
       "      <th>Peso</th>\n",
       "      <th>Altura</th>\n",
       "      <th>IMC</th>\n",
       "      <th>Atendimento</th>\n",
       "      <th>DN</th>\n",
       "      <th>IDADE</th>\n",
       "      <th>Convenio</th>\n",
       "      <th>PULSOS</th>\n",
       "      <th>PA SISTOLICA</th>\n",
       "      <th>...</th>\n",
       "      <th>PPA</th>\n",
       "      <th>NORMAL X ANORMAL</th>\n",
       "      <th>B2</th>\n",
       "      <th>SOPRO</th>\n",
       "      <th>FC</th>\n",
       "      <th>HDA 1</th>\n",
       "      <th>HDA2</th>\n",
       "      <th>SEXO</th>\n",
       "      <th>MOTIVO1</th>\n",
       "      <th>MOTIVO2</th>\n",
       "    </tr>\n",
       "  </thead>\n",
       "  <tbody>\n",
       "    <tr>\n",
       "      <th>0</th>\n",
       "      <td>1</td>\n",
       "      <td>5.0</td>\n",
       "      <td>51</td>\n",
       "      <td>19.0</td>\n",
       "      <td>11/05/06</td>\n",
       "      <td>30/03/06</td>\n",
       "      <td>0.12</td>\n",
       "      <td>GS</td>\n",
       "      <td>Normais</td>\n",
       "      <td>NaN</td>\n",
       "      <td>...</td>\n",
       "      <td>Não Calculado</td>\n",
       "      <td>Anormal</td>\n",
       "      <td>Normal</td>\n",
       "      <td>Sistólico</td>\n",
       "      <td>112</td>\n",
       "      <td>Palpitacao</td>\n",
       "      <td>NaN</td>\n",
       "      <td>M</td>\n",
       "      <td>6 - Suspeita de cardiopatia</td>\n",
       "      <td>6 - Palpitação/taquicardia/arritmia</td>\n",
       "    </tr>\n",
       "    <tr>\n",
       "      <th>1</th>\n",
       "      <td>2</td>\n",
       "      <td>3.5</td>\n",
       "      <td>50</td>\n",
       "      <td>14.0</td>\n",
       "      <td>25/05/05</td>\n",
       "      <td>19/05/05</td>\n",
       "      <td>0.02</td>\n",
       "      <td>GS</td>\n",
       "      <td>Normais</td>\n",
       "      <td>NaN</td>\n",
       "      <td>...</td>\n",
       "      <td>Não Calculado</td>\n",
       "      <td>Anormal</td>\n",
       "      <td>Normal</td>\n",
       "      <td>ausente</td>\n",
       "      <td>128</td>\n",
       "      <td>Dispneia</td>\n",
       "      <td>NaN</td>\n",
       "      <td>M</td>\n",
       "      <td>6 - Suspeita de cardiopatia</td>\n",
       "      <td>6 - Dispnéia</td>\n",
       "    </tr>\n",
       "    <tr>\n",
       "      <th>2</th>\n",
       "      <td>3</td>\n",
       "      <td>0.0</td>\n",
       "      <td>0</td>\n",
       "      <td>NaN</td>\n",
       "      <td>12/06/01</td>\n",
       "      <td>08/05/05</td>\n",
       "      <td>-4.05</td>\n",
       "      <td>SULA</td>\n",
       "      <td>Normais</td>\n",
       "      <td>NaN</td>\n",
       "      <td>...</td>\n",
       "      <td>Não Calculado</td>\n",
       "      <td>Anormal</td>\n",
       "      <td>Normal</td>\n",
       "      <td>Sistólico</td>\n",
       "      <td>88</td>\n",
       "      <td>Assintomático</td>\n",
       "      <td>NaN</td>\n",
       "      <td>M</td>\n",
       "      <td>2 - Check-up</td>\n",
       "      <td>NaN</td>\n",
       "    </tr>\n",
       "    <tr>\n",
       "      <th>3</th>\n",
       "      <td>4</td>\n",
       "      <td>8.1</td>\n",
       "      <td>65</td>\n",
       "      <td>19.0</td>\n",
       "      <td>15/10/09</td>\n",
       "      <td>21/04/09</td>\n",
       "      <td>0.50</td>\n",
       "      <td>NaN</td>\n",
       "      <td>Normais</td>\n",
       "      <td>NaN</td>\n",
       "      <td>...</td>\n",
       "      <td>Não Calculado</td>\n",
       "      <td>Anormal</td>\n",
       "      <td>Normal</td>\n",
       "      <td>ausente</td>\n",
       "      <td>92</td>\n",
       "      <td>Assintomático</td>\n",
       "      <td>NaN</td>\n",
       "      <td>M</td>\n",
       "      <td>5 - Parecer cardiológico</td>\n",
       "      <td>NaN</td>\n",
       "    </tr>\n",
       "    <tr>\n",
       "      <th>4</th>\n",
       "      <td>7</td>\n",
       "      <td>40.0</td>\n",
       "      <td>151</td>\n",
       "      <td>18.0</td>\n",
       "      <td>14/01/08</td>\n",
       "      <td>14/08/95</td>\n",
       "      <td>12.89</td>\n",
       "      <td>SAME</td>\n",
       "      <td>Normais</td>\n",
       "      <td>NaN</td>\n",
       "      <td>...</td>\n",
       "      <td>Não Calculado</td>\n",
       "      <td>Anormal</td>\n",
       "      <td>Normal</td>\n",
       "      <td>ausente</td>\n",
       "      <td>96</td>\n",
       "      <td>Dor precordial</td>\n",
       "      <td>NaN</td>\n",
       "      <td>M</td>\n",
       "      <td>5 - Parecer cardiológico</td>\n",
       "      <td>NaN</td>\n",
       "    </tr>\n",
       "  </tbody>\n",
       "</table>\n",
       "<p>5 rows × 21 columns</p>\n",
       "</div>"
      ],
      "text/plain": [
       "   ID  Peso  Altura   IMC Atendimento        DN  IDADE Convenio   PULSOS  \\\n",
       "0   1   5.0      51  19.0    11/05/06  30/03/06   0.12       GS  Normais   \n",
       "1   2   3.5      50  14.0    25/05/05  19/05/05   0.02       GS  Normais   \n",
       "2   3   0.0       0   NaN    12/06/01  08/05/05  -4.05     SULA  Normais   \n",
       "3   4   8.1      65  19.0    15/10/09  21/04/09   0.50      NaN  Normais   \n",
       "4   7  40.0     151  18.0    14/01/08  14/08/95  12.89     SAME  Normais   \n",
       "\n",
       "   PA SISTOLICA  ...            PPA NORMAL X ANORMAL      B2      SOPRO   FC  \\\n",
       "0           NaN  ...  Não Calculado          Anormal  Normal  Sistólico  112   \n",
       "1           NaN  ...  Não Calculado          Anormal  Normal    ausente  128   \n",
       "2           NaN  ...  Não Calculado          Anormal  Normal  Sistólico   88   \n",
       "3           NaN  ...  Não Calculado          Anormal  Normal    ausente   92   \n",
       "4           NaN  ...  Não Calculado          Anormal  Normal    ausente   96   \n",
       "\n",
       "            HDA 1 HDA2 SEXO                      MOTIVO1  \\\n",
       "0      Palpitacao  NaN    M  6 - Suspeita de cardiopatia   \n",
       "1        Dispneia  NaN    M  6 - Suspeita de cardiopatia   \n",
       "2   Assintomático  NaN    M                 2 - Check-up   \n",
       "3   Assintomático  NaN    M     5 - Parecer cardiológico   \n",
       "4  Dor precordial  NaN    M     5 - Parecer cardiológico   \n",
       "\n",
       "                               MOTIVO2  \n",
       "0  6 - Palpitação/taquicardia/arritmia  \n",
       "1                         6 - Dispnéia  \n",
       "2                                  NaN  \n",
       "3                                  NaN  \n",
       "4                                  NaN  \n",
       "\n",
       "[5 rows x 21 columns]"
      ]
     },
     "execution_count": 30,
     "metadata": {},
     "output_type": "execute_result"
    }
   ],
   "source": [
    "df = pd.read_csv(CSV_PATH)\n",
    "df.head()"
   ]
  },
  {
   "cell_type": "code",
   "execution_count": 31,
   "id": "a77b8c77",
   "metadata": {},
   "outputs": [
    {
     "data": {
      "text/html": [
       "<div>\n",
       "<style scoped>\n",
       "    .dataframe tbody tr th:only-of-type {\n",
       "        vertical-align: middle;\n",
       "    }\n",
       "\n",
       "    .dataframe tbody tr th {\n",
       "        vertical-align: top;\n",
       "    }\n",
       "\n",
       "    .dataframe thead th {\n",
       "        text-align: right;\n",
       "    }\n",
       "</style>\n",
       "<table border=\"1\" class=\"dataframe\">\n",
       "  <thead>\n",
       "    <tr style=\"text-align: right;\">\n",
       "      <th></th>\n",
       "      <th>Convenio</th>\n",
       "      <th>PULSOS</th>\n",
       "      <th>PA SISTOLICA</th>\n",
       "      <th>PA DIASTOLICA</th>\n",
       "      <th>PPA</th>\n",
       "      <th>NORMAL X ANORMAL</th>\n",
       "      <th>B2</th>\n",
       "    </tr>\n",
       "  </thead>\n",
       "  <tbody>\n",
       "    <tr>\n",
       "      <th>0</th>\n",
       "      <td>GS</td>\n",
       "      <td>Normais</td>\n",
       "      <td>NaN</td>\n",
       "      <td>NaN</td>\n",
       "      <td>Não Calculado</td>\n",
       "      <td>Anormal</td>\n",
       "      <td>Normal</td>\n",
       "    </tr>\n",
       "    <tr>\n",
       "      <th>1</th>\n",
       "      <td>GS</td>\n",
       "      <td>Normais</td>\n",
       "      <td>NaN</td>\n",
       "      <td>NaN</td>\n",
       "      <td>Não Calculado</td>\n",
       "      <td>Anormal</td>\n",
       "      <td>Normal</td>\n",
       "    </tr>\n",
       "    <tr>\n",
       "      <th>2</th>\n",
       "      <td>SULA</td>\n",
       "      <td>Normais</td>\n",
       "      <td>NaN</td>\n",
       "      <td>NaN</td>\n",
       "      <td>Não Calculado</td>\n",
       "      <td>Anormal</td>\n",
       "      <td>Normal</td>\n",
       "    </tr>\n",
       "    <tr>\n",
       "      <th>3</th>\n",
       "      <td>NaN</td>\n",
       "      <td>Normais</td>\n",
       "      <td>NaN</td>\n",
       "      <td>NaN</td>\n",
       "      <td>Não Calculado</td>\n",
       "      <td>Anormal</td>\n",
       "      <td>Normal</td>\n",
       "    </tr>\n",
       "    <tr>\n",
       "      <th>4</th>\n",
       "      <td>SAME</td>\n",
       "      <td>Normais</td>\n",
       "      <td>NaN</td>\n",
       "      <td>NaN</td>\n",
       "      <td>Não Calculado</td>\n",
       "      <td>Anormal</td>\n",
       "      <td>Normal</td>\n",
       "    </tr>\n",
       "  </tbody>\n",
       "</table>\n",
       "</div>"
      ],
      "text/plain": [
       "  Convenio   PULSOS  PA SISTOLICA  PA DIASTOLICA            PPA  \\\n",
       "0       GS  Normais           NaN            NaN  Não Calculado   \n",
       "1       GS  Normais           NaN            NaN  Não Calculado   \n",
       "2     SULA  Normais           NaN            NaN  Não Calculado   \n",
       "3      NaN  Normais           NaN            NaN  Não Calculado   \n",
       "4     SAME  Normais           NaN            NaN  Não Calculado   \n",
       "\n",
       "  NORMAL X ANORMAL      B2  \n",
       "0          Anormal  Normal  \n",
       "1          Anormal  Normal  \n",
       "2          Anormal  Normal  \n",
       "3          Anormal  Normal  \n",
       "4          Anormal  Normal  "
      ]
     },
     "execution_count": 31,
     "metadata": {},
     "output_type": "execute_result"
    }
   ],
   "source": [
    "df_selecionado = df.iloc[:, 7:14]\n",
    "\n",
    "df_selecionado.head()"
   ]
  },
  {
   "cell_type": "markdown",
   "id": "b1d393bc",
   "metadata": {},
   "source": [
    "- Convênio não parece ser uma variável muito importante, ou seja vamos excluir ela"
   ]
  },
  {
   "cell_type": "code",
   "execution_count": 32,
   "id": "562c63b2",
   "metadata": {},
   "outputs": [
    {
     "data": {
      "text/html": [
       "<div>\n",
       "<style scoped>\n",
       "    .dataframe tbody tr th:only-of-type {\n",
       "        vertical-align: middle;\n",
       "    }\n",
       "\n",
       "    .dataframe tbody tr th {\n",
       "        vertical-align: top;\n",
       "    }\n",
       "\n",
       "    .dataframe thead th {\n",
       "        text-align: right;\n",
       "    }\n",
       "</style>\n",
       "<table border=\"1\" class=\"dataframe\">\n",
       "  <thead>\n",
       "    <tr style=\"text-align: right;\">\n",
       "      <th></th>\n",
       "      <th>PULSOS</th>\n",
       "      <th>PA SISTOLICA</th>\n",
       "      <th>PA DIASTOLICA</th>\n",
       "      <th>PPA</th>\n",
       "      <th>NORMAL X ANORMAL</th>\n",
       "      <th>B2</th>\n",
       "    </tr>\n",
       "  </thead>\n",
       "  <tbody>\n",
       "    <tr>\n",
       "      <th>0</th>\n",
       "      <td>Normais</td>\n",
       "      <td>NaN</td>\n",
       "      <td>NaN</td>\n",
       "      <td>Não Calculado</td>\n",
       "      <td>Anormal</td>\n",
       "      <td>Normal</td>\n",
       "    </tr>\n",
       "    <tr>\n",
       "      <th>1</th>\n",
       "      <td>Normais</td>\n",
       "      <td>NaN</td>\n",
       "      <td>NaN</td>\n",
       "      <td>Não Calculado</td>\n",
       "      <td>Anormal</td>\n",
       "      <td>Normal</td>\n",
       "    </tr>\n",
       "    <tr>\n",
       "      <th>2</th>\n",
       "      <td>Normais</td>\n",
       "      <td>NaN</td>\n",
       "      <td>NaN</td>\n",
       "      <td>Não Calculado</td>\n",
       "      <td>Anormal</td>\n",
       "      <td>Normal</td>\n",
       "    </tr>\n",
       "    <tr>\n",
       "      <th>3</th>\n",
       "      <td>Normais</td>\n",
       "      <td>NaN</td>\n",
       "      <td>NaN</td>\n",
       "      <td>Não Calculado</td>\n",
       "      <td>Anormal</td>\n",
       "      <td>Normal</td>\n",
       "    </tr>\n",
       "    <tr>\n",
       "      <th>4</th>\n",
       "      <td>Normais</td>\n",
       "      <td>NaN</td>\n",
       "      <td>NaN</td>\n",
       "      <td>Não Calculado</td>\n",
       "      <td>Anormal</td>\n",
       "      <td>Normal</td>\n",
       "    </tr>\n",
       "  </tbody>\n",
       "</table>\n",
       "</div>"
      ],
      "text/plain": [
       "    PULSOS  PA SISTOLICA  PA DIASTOLICA            PPA NORMAL X ANORMAL  \\\n",
       "0  Normais           NaN            NaN  Não Calculado          Anormal   \n",
       "1  Normais           NaN            NaN  Não Calculado          Anormal   \n",
       "2  Normais           NaN            NaN  Não Calculado          Anormal   \n",
       "3  Normais           NaN            NaN  Não Calculado          Anormal   \n",
       "4  Normais           NaN            NaN  Não Calculado          Anormal   \n",
       "\n",
       "       B2  \n",
       "0  Normal  \n",
       "1  Normal  \n",
       "2  Normal  \n",
       "3  Normal  \n",
       "4  Normal  "
      ]
     },
     "execution_count": 32,
     "metadata": {},
     "output_type": "execute_result"
    }
   ],
   "source": [
    "df_selecionado_linha = df_selecionado.drop(['Convenio'], axis=1)\n",
    "\n",
    "df_selecionado_linha.head()"
   ]
  },
  {
   "cell_type": "code",
   "execution_count": 33,
   "id": "66146936",
   "metadata": {},
   "outputs": [
    {
     "name": "stdout",
     "output_type": "stream",
     "text": [
      "Valores únicos da variável PULSOS\n",
      "\n",
      "PULSOS\n",
      "Normais                11531\n",
      "Amplos                    52\n",
      "Femorais diminuidos       39\n",
      "Outro                     36\n",
      "Diminuídos                18\n",
      "NORMAIS                    2\n",
      "AMPLOS                     1\n",
      "Name: count, dtype: int64\n",
      "----------------------------------------\n",
      "\n",
      "Quantidade valores nulos na variável PULSOS: 1194\n"
     ]
    }
   ],
   "source": [
    "print(\"Valores únicos da variável PULSOS\\n\")\n",
    "print(df_selecionado_linha['PULSOS'].value_counts())\n",
    "print('-'*40)\n",
    "print(f\"\\nQuantidade valores nulos na variável PULSOS: {df_selecionado_linha['PULSOS'].isna().sum()}\")"
   ]
  },
  {
   "cell_type": "code",
   "execution_count": 34,
   "id": "ff3461c6",
   "metadata": {},
   "outputs": [
    {
     "name": "stdout",
     "output_type": "stream",
     "text": [
      "PA SISTOLICA\n",
      "(59.07, 246.0]    5141\n",
      "(804.0, 990.0]       1\n",
      "(618.0, 804.0]       1\n",
      "(432.0, 618.0]       0\n",
      "(246.0, 432.0]       0\n",
      "Name: count, dtype: int64\n",
      "----------------------------------------\n",
      "\n",
      "Quantidade valores nulos na variável PA SISTOLICA: 7730\n"
     ]
    }
   ],
   "source": [
    "bins_pa_sistolica = pd.cut(df_selecionado_linha['PA SISTOLICA'], bins=5)\n",
    "print(bins_pa_sistolica.value_counts())\n",
    "print('-'*40)\n",
    "print(f\"\\nQuantidade valores nulos na variável PA SISTOLICA: {df_selecionado_linha['PA SISTOLICA'].isna().sum()}\")\n"
   ]
  },
  {
   "cell_type": "code",
   "execution_count": 35,
   "id": "34b32570",
   "metadata": {},
   "outputs": [
    {
     "name": "stdout",
     "output_type": "stream",
     "text": [
      "PA DIASTOLICA\n",
      "(51.6, 74.4]     3993\n",
      "(28.8, 51.6]      670\n",
      "(74.4, 97.2]      447\n",
      "(97.2, 120.0]      21\n",
      "(5.886, 28.8]       2\n",
      "Name: count, dtype: int64\n",
      "----------------------------------------\n",
      "\n",
      "Quantidade valores nulos na variável PA DIASTOLICA: 7740\n"
     ]
    }
   ],
   "source": [
    "bins_pa_diastolica = pd.cut(df_selecionado_linha['PA DIASTOLICA'], bins=5)\n",
    "print(bins_pa_diastolica.value_counts())\n",
    "print('-'*40)\n",
    "print(f\"\\nQuantidade valores nulos na variável PA DIASTOLICA: {df_selecionado_linha['PA DIASTOLICA'].isna().sum()}\")"
   ]
  },
  {
   "cell_type": "code",
   "execution_count": 36,
   "id": "3576f901",
   "metadata": {},
   "outputs": [
    {
     "name": "stdout",
     "output_type": "stream",
     "text": [
      "Valores únicos da variável PPA\n",
      "\n",
      "PPA\n",
      "Não Calculado          9081\n",
      "Normal                 1790\n",
      "#VALUE!                1496\n",
      "HAS-2 PAS                73\n",
      "Pre-Hipertensão PAD      73\n",
      "Pre-Hipertensão PAS      48\n",
      "HAS-1 PAS                48\n",
      "HAS-1 PAD                26\n",
      "HAS-2 PAD                21\n",
      "Name: count, dtype: int64\n",
      "----------------------------------------\n",
      "\n",
      "Quantidade valores nulos na variável PPA: 217\n"
     ]
    }
   ],
   "source": [
    "print(\"Valores únicos da variável PPA\\n\")\n",
    "print(df_selecionado_linha['PPA'].value_counts())\n",
    "print('-'*40)\n",
    "print(f\"\\nQuantidade valores nulos na variável PPA: {df_selecionado_linha['PPA'].isna().sum()}\")"
   ]
  },
  {
   "cell_type": "code",
   "execution_count": 37,
   "id": "525c90c7",
   "metadata": {},
   "outputs": [
    {
     "name": "stdout",
     "output_type": "stream",
     "text": [
      "Valores únicos da variável \n",
      "\n",
      "NORMAL X ANORMAL\n",
      "Normal     6744\n",
      "Anormal    4959\n",
      "anormal       1\n",
      "Normais       1\n",
      "Name: count, dtype: int64\n",
      "----------------------------------------\n",
      "\n",
      "Quantidade valores nulos na variável NORMAL X ANORMAL: 1168\n"
     ]
    }
   ],
   "source": [
    "print(\"Valores únicos da variável \\n\")\n",
    "print(df_selecionado_linha['NORMAL X ANORMAL'].value_counts())\n",
    "print('-'*40)\n",
    "print(f\"\\nQuantidade valores nulos na variável NORMAL X ANORMAL: {df_selecionado_linha['NORMAL X ANORMAL'].isna().sum()}\")"
   ]
  },
  {
   "cell_type": "code",
   "execution_count": 38,
   "id": "0e3f716a",
   "metadata": {},
   "outputs": [
    {
     "name": "stdout",
     "output_type": "stream",
     "text": [
      "Valores únicos da variável \n",
      "\n",
      "B2\n",
      "Normal           11098\n",
      "Hiperfonética      295\n",
      "Desdob fixo        149\n",
      "Única               77\n",
      "Outro               76\n",
      "Name: count, dtype: int64\n",
      "----------------------------------------\n",
      "\n",
      "Quantidade valores nulos na variável B2: 1178\n"
     ]
    }
   ],
   "source": [
    "print(\"Valores únicos da variável \\n\")\n",
    "print(df_selecionado_linha['B2'].value_counts())\n",
    "print('-'*40)\n",
    "print(f\"\\nQuantidade valores nulos na variável B2: {df_selecionado_linha['B2'].isna().sum()}\")"
   ]
  },
  {
   "cell_type": "markdown",
   "id": "456d6f7c",
   "metadata": {},
   "source": [
    "- Podemos ver que as variáveis PA DIASTOLICA E PA SISTOLICA elas tem muitos dados faltantes. A variável PPA é derivada delas, podemos então manter PPA e dropar as suas antecedentes"
   ]
  },
  {
   "cell_type": "code",
   "execution_count": 39,
   "id": "0d8806a4",
   "metadata": {},
   "outputs": [
    {
     "data": {
      "text/html": [
       "<div>\n",
       "<style scoped>\n",
       "    .dataframe tbody tr th:only-of-type {\n",
       "        vertical-align: middle;\n",
       "    }\n",
       "\n",
       "    .dataframe tbody tr th {\n",
       "        vertical-align: top;\n",
       "    }\n",
       "\n",
       "    .dataframe thead th {\n",
       "        text-align: right;\n",
       "    }\n",
       "</style>\n",
       "<table border=\"1\" class=\"dataframe\">\n",
       "  <thead>\n",
       "    <tr style=\"text-align: right;\">\n",
       "      <th></th>\n",
       "      <th>PULSOS</th>\n",
       "      <th>PPA</th>\n",
       "      <th>NORMAL X ANORMAL</th>\n",
       "      <th>B2</th>\n",
       "    </tr>\n",
       "  </thead>\n",
       "  <tbody>\n",
       "    <tr>\n",
       "      <th>0</th>\n",
       "      <td>Normais</td>\n",
       "      <td>Não Calculado</td>\n",
       "      <td>Anormal</td>\n",
       "      <td>Normal</td>\n",
       "    </tr>\n",
       "    <tr>\n",
       "      <th>1</th>\n",
       "      <td>Normais</td>\n",
       "      <td>Não Calculado</td>\n",
       "      <td>Anormal</td>\n",
       "      <td>Normal</td>\n",
       "    </tr>\n",
       "    <tr>\n",
       "      <th>2</th>\n",
       "      <td>Normais</td>\n",
       "      <td>Não Calculado</td>\n",
       "      <td>Anormal</td>\n",
       "      <td>Normal</td>\n",
       "    </tr>\n",
       "    <tr>\n",
       "      <th>3</th>\n",
       "      <td>Normais</td>\n",
       "      <td>Não Calculado</td>\n",
       "      <td>Anormal</td>\n",
       "      <td>Normal</td>\n",
       "    </tr>\n",
       "    <tr>\n",
       "      <th>4</th>\n",
       "      <td>Normais</td>\n",
       "      <td>Não Calculado</td>\n",
       "      <td>Anormal</td>\n",
       "      <td>Normal</td>\n",
       "    </tr>\n",
       "  </tbody>\n",
       "</table>\n",
       "</div>"
      ],
      "text/plain": [
       "    PULSOS            PPA NORMAL X ANORMAL      B2\n",
       "0  Normais  Não Calculado          Anormal  Normal\n",
       "1  Normais  Não Calculado          Anormal  Normal\n",
       "2  Normais  Não Calculado          Anormal  Normal\n",
       "3  Normais  Não Calculado          Anormal  Normal\n",
       "4  Normais  Não Calculado          Anormal  Normal"
      ]
     },
     "execution_count": 39,
     "metadata": {},
     "output_type": "execute_result"
    }
   ],
   "source": [
    "df_selecionado_linha2 = df_selecionado_linha.drop(['PA SISTOLICA', 'PA DIASTOLICA'], axis=1)\n",
    "df_selecionado_linha2.head()"
   ]
  },
  {
   "cell_type": "markdown",
   "id": "cfcaaea6",
   "metadata": {},
   "source": [
    "- Na exploração de dados, pudemos ver que as variáveis PULSOS e NORMAL X ANORMAL tem valores que tem o mesmo valor, mas estão armazenados de forma diferente. Ex.: Normal e Normais na variável NORMAL X ANORMAL. "
   ]
  },
  {
   "cell_type": "markdown",
   "id": "9e1fe06b",
   "metadata": {},
   "source": [
    "- Nesse caso, vamos precisar padronizar para um valor só."
   ]
  },
  {
   "cell_type": "markdown",
   "id": "365bf95d",
   "metadata": {},
   "source": [
    "### Padronização da variável PULSOS"
   ]
  },
  {
   "cell_type": "code",
   "execution_count": 40,
   "id": "74da203c",
   "metadata": {},
   "outputs": [
    {
     "data": {
      "text/plain": [
       "PULSOS\n",
       "Normais                11531\n",
       "Amplos                    52\n",
       "Femorais diminuidos       39\n",
       "Outro                     36\n",
       "Diminuídos                18\n",
       "NORMAIS                    2\n",
       "AMPLOS                     1\n",
       "Name: count, dtype: int64"
      ]
     },
     "execution_count": 40,
     "metadata": {},
     "output_type": "execute_result"
    }
   ],
   "source": [
    "df_selecionado_linha2['PULSOS'].value_counts()"
   ]
  },
  {
   "cell_type": "code",
   "execution_count": 41,
   "id": "c3a046a8",
   "metadata": {},
   "outputs": [],
   "source": [
    "valores_anormais = [\n",
    "    'Amplos', 'Femorais diminuidos', 'Outro', 'Diminuídos', 'AMPLOS'\n",
    "]\n",
    "\n",
    "df_selecionado_linha2['PULSOS'] = df_selecionado_linha2['PULSOS'].apply(\n",
    "    lambda x: 'Desconhecido' if pd.isna(x) else 'Anormais' if x in valores_anormais else 'Normais'\n",
    ")"
   ]
  },
  {
   "cell_type": "code",
   "execution_count": 42,
   "id": "4d3ffa30",
   "metadata": {},
   "outputs": [
    {
     "data": {
      "text/plain": [
       "PULSOS\n",
       "Normais         11551\n",
       "Desconhecido     1194\n",
       "Anormais          128\n",
       "Name: count, dtype: int64"
      ]
     },
     "execution_count": 42,
     "metadata": {},
     "output_type": "execute_result"
    }
   ],
   "source": [
    "df_selecionado_linha2['PULSOS'].value_counts()"
   ]
  },
  {
   "cell_type": "markdown",
   "id": "285f4774",
   "metadata": {},
   "source": [
    "### Padronização da variável NORMAL X ANORMAL"
   ]
  },
  {
   "cell_type": "code",
   "execution_count": 43,
   "id": "7fda23ce",
   "metadata": {},
   "outputs": [
    {
     "data": {
      "text/plain": [
       "NORMAL X ANORMAL\n",
       "Normal     6744\n",
       "Anormal    4959\n",
       "anormal       1\n",
       "Normais       1\n",
       "Name: count, dtype: int64"
      ]
     },
     "execution_count": 43,
     "metadata": {},
     "output_type": "execute_result"
    }
   ],
   "source": [
    "df_selecionado_linha2['NORMAL X ANORMAL'].value_counts()"
   ]
  },
  {
   "cell_type": "code",
   "execution_count": 44,
   "id": "466c1d72",
   "metadata": {},
   "outputs": [],
   "source": [
    "valores_anormais_normal = ['Anormal', 'anormal']\n",
    "\n",
    "df_selecionado_linha2['NORMAL X ANORMAL'] = df_selecionado_linha2['NORMAL X ANORMAL'].apply(\n",
    "    lambda x: 'Desconhecido' if pd.isna(x) else 'Anormal' if x in valores_anormais_normal else 'Normal'\n",
    ")"
   ]
  },
  {
   "cell_type": "code",
   "execution_count": 45,
   "id": "2a28fbd2",
   "metadata": {},
   "outputs": [
    {
     "data": {
      "text/plain": [
       "NORMAL X ANORMAL\n",
       "Normal          6745\n",
       "Anormal         4960\n",
       "Desconhecido    1168\n",
       "Name: count, dtype: int64"
      ]
     },
     "execution_count": 45,
     "metadata": {},
     "output_type": "execute_result"
    }
   ],
   "source": [
    "df_selecionado_linha2['NORMAL X ANORMAL'].value_counts()"
   ]
  },
  {
   "cell_type": "markdown",
   "id": "df5eef06",
   "metadata": {},
   "source": [
    "### Padronização da variável PPA"
   ]
  },
  {
   "cell_type": "code",
   "execution_count": 46,
   "id": "56f014f4",
   "metadata": {},
   "outputs": [
    {
     "data": {
      "text/plain": [
       "PPA\n",
       "Não Calculado          9081\n",
       "Normal                 1790\n",
       "#VALUE!                1496\n",
       "HAS-2 PAS                73\n",
       "Pre-Hipertensão PAD      73\n",
       "Pre-Hipertensão PAS      48\n",
       "HAS-1 PAS                48\n",
       "HAS-1 PAD                26\n",
       "HAS-2 PAD                21\n",
       "Name: count, dtype: int64"
      ]
     },
     "execution_count": 46,
     "metadata": {},
     "output_type": "execute_result"
    }
   ],
   "source": [
    "df_selecionado_linha2['PPA'].value_counts()"
   ]
  },
  {
   "cell_type": "code",
   "execution_count": 47,
   "id": "f0051076",
   "metadata": {},
   "outputs": [],
   "source": [
    "valores_has1 = ['HAS-1 PAS', 'HAS-1 PAD']\n",
    "valores_has2 = ['HAS-2 PAS', 'HAS-2 PAD']\n",
    "valores_pre_hipertensao = ['Pre-Hipertensão PAD', 'Pre-Hipertensão PAS']\n",
    "valores_desconhecidos = ['Não Calculado', '#VALUE!']\n",
    "\n",
    "\n",
    "df_selecionado_linha2['PPA'] = df_selecionado_linha2['PPA'].apply(\n",
    "    lambda x: 'Desconhecido' if pd.isna(x) or x in valores_desconhecidos \n",
    "                else 'HAS-1' if x in valores_has1 \n",
    "                else 'HAS-2' if x in valores_has2\n",
    "                else 'Pré Hipertensão' if x in valores_pre_hipertensao\n",
    "                else 'Normal'\n",
    ")"
   ]
  },
  {
   "cell_type": "code",
   "execution_count": 48,
   "id": "3bbd3c0f",
   "metadata": {},
   "outputs": [
    {
     "data": {
      "text/plain": [
       "PPA\n",
       "Desconhecido       10794\n",
       "Normal              1790\n",
       "Pré Hipertensão      121\n",
       "HAS-2                 94\n",
       "HAS-1                 74\n",
       "Name: count, dtype: int64"
      ]
     },
     "execution_count": 48,
     "metadata": {},
     "output_type": "execute_result"
    }
   ],
   "source": [
    "df_selecionado_linha2['PPA'].value_counts()"
   ]
  },
  {
   "cell_type": "markdown",
   "id": "2f624f53",
   "metadata": {},
   "source": [
    "### Padronização da variável B2"
   ]
  },
  {
   "cell_type": "code",
   "execution_count": 49,
   "id": "b5fa3f7f",
   "metadata": {},
   "outputs": [
    {
     "data": {
      "text/plain": [
       "B2\n",
       "Normal           11098\n",
       "Hiperfonética      295\n",
       "Desdob fixo        149\n",
       "Única               77\n",
       "Outro               76\n",
       "Name: count, dtype: int64"
      ]
     },
     "execution_count": 49,
     "metadata": {},
     "output_type": "execute_result"
    }
   ],
   "source": [
    "df_selecionado_linha2['B2'].value_counts()"
   ]
  },
  {
   "cell_type": "code",
   "execution_count": 50,
   "id": "b62a88a3",
   "metadata": {},
   "outputs": [],
   "source": [
    "valores_anormais = [\n",
    "    'Hiperfonética', 'Desdob fixo', 'Outro', 'Única'\n",
    "]\n",
    "\n",
    "df_selecionado_linha2['B2'] = df_selecionado_linha2['B2'].apply(\n",
    "    lambda x: 'Desconhecido' if pd.isna(x) else 'Anormais' if x in valores_anormais else 'Normal'\n",
    ")"
   ]
  },
  {
   "cell_type": "code",
   "execution_count": 51,
   "id": "e7d5ccf8",
   "metadata": {},
   "outputs": [
    {
     "data": {
      "text/plain": [
       "B2\n",
       "Normal          11098\n",
       "Desconhecido     1178\n",
       "Anormais          597\n",
       "Name: count, dtype: int64"
      ]
     },
     "execution_count": 51,
     "metadata": {},
     "output_type": "execute_result"
    }
   ],
   "source": [
    "df_selecionado_linha2['B2'].value_counts()"
   ]
  },
  {
   "cell_type": "markdown",
   "id": "f7667ca2",
   "metadata": {},
   "source": [
    "## Dataframe limpo das variáveis importantes"
   ]
  },
  {
   "cell_type": "code",
   "execution_count": 54,
   "id": "61451a87",
   "metadata": {},
   "outputs": [
    {
     "data": {
      "text/html": [
       "<div>\n",
       "<style scoped>\n",
       "    .dataframe tbody tr th:only-of-type {\n",
       "        vertical-align: middle;\n",
       "    }\n",
       "\n",
       "    .dataframe tbody tr th {\n",
       "        vertical-align: top;\n",
       "    }\n",
       "\n",
       "    .dataframe thead th {\n",
       "        text-align: right;\n",
       "    }\n",
       "</style>\n",
       "<table border=\"1\" class=\"dataframe\">\n",
       "  <thead>\n",
       "    <tr style=\"text-align: right;\">\n",
       "      <th></th>\n",
       "      <th>PULSOS</th>\n",
       "      <th>PPA</th>\n",
       "      <th>NORMAL X ANORMAL</th>\n",
       "      <th>B2</th>\n",
       "    </tr>\n",
       "  </thead>\n",
       "  <tbody>\n",
       "    <tr>\n",
       "      <th>0</th>\n",
       "      <td>Normais</td>\n",
       "      <td>Desconhecido</td>\n",
       "      <td>Anormal</td>\n",
       "      <td>Normal</td>\n",
       "    </tr>\n",
       "    <tr>\n",
       "      <th>1</th>\n",
       "      <td>Normais</td>\n",
       "      <td>Desconhecido</td>\n",
       "      <td>Anormal</td>\n",
       "      <td>Normal</td>\n",
       "    </tr>\n",
       "    <tr>\n",
       "      <th>2</th>\n",
       "      <td>Normais</td>\n",
       "      <td>Desconhecido</td>\n",
       "      <td>Anormal</td>\n",
       "      <td>Normal</td>\n",
       "    </tr>\n",
       "    <tr>\n",
       "      <th>3</th>\n",
       "      <td>Normais</td>\n",
       "      <td>Desconhecido</td>\n",
       "      <td>Anormal</td>\n",
       "      <td>Normal</td>\n",
       "    </tr>\n",
       "    <tr>\n",
       "      <th>4</th>\n",
       "      <td>Normais</td>\n",
       "      <td>Desconhecido</td>\n",
       "      <td>Anormal</td>\n",
       "      <td>Normal</td>\n",
       "    </tr>\n",
       "  </tbody>\n",
       "</table>\n",
       "</div>"
      ],
      "text/plain": [
       "    PULSOS           PPA NORMAL X ANORMAL      B2\n",
       "0  Normais  Desconhecido          Anormal  Normal\n",
       "1  Normais  Desconhecido          Anormal  Normal\n",
       "2  Normais  Desconhecido          Anormal  Normal\n",
       "3  Normais  Desconhecido          Anormal  Normal\n",
       "4  Normais  Desconhecido          Anormal  Normal"
      ]
     },
     "execution_count": 54,
     "metadata": {},
     "output_type": "execute_result"
    }
   ],
   "source": [
    "df_selecionado_linha2.head()"
   ]
  },
  {
   "cell_type": "code",
   "execution_count": 55,
   "id": "883d2764",
   "metadata": {},
   "outputs": [
    {
     "name": "stdout",
     "output_type": "stream",
     "text": [
      "<class 'pandas.core.frame.DataFrame'>\n",
      "RangeIndex: 12873 entries, 0 to 12872\n",
      "Data columns (total 4 columns):\n",
      " #   Column            Non-Null Count  Dtype \n",
      "---  ------            --------------  ----- \n",
      " 0   PULSOS            12873 non-null  object\n",
      " 1   PPA               12873 non-null  object\n",
      " 2   NORMAL X ANORMAL  12873 non-null  object\n",
      " 3   B2                12873 non-null  object\n",
      "dtypes: object(4)\n",
      "memory usage: 402.4+ KB\n"
     ]
    }
   ],
   "source": [
    "df_selecionado_linha2.info()"
   ]
  },
  {
   "cell_type": "code",
   "execution_count": 56,
   "id": "a034e670",
   "metadata": {},
   "outputs": [
    {
     "data": {
      "text/html": [
       "<div>\n",
       "<style scoped>\n",
       "    .dataframe tbody tr th:only-of-type {\n",
       "        vertical-align: middle;\n",
       "    }\n",
       "\n",
       "    .dataframe tbody tr th {\n",
       "        vertical-align: top;\n",
       "    }\n",
       "\n",
       "    .dataframe thead th {\n",
       "        text-align: right;\n",
       "    }\n",
       "</style>\n",
       "<table border=\"1\" class=\"dataframe\">\n",
       "  <thead>\n",
       "    <tr style=\"text-align: right;\">\n",
       "      <th></th>\n",
       "      <th>PULSOS</th>\n",
       "      <th>PPA</th>\n",
       "      <th>NORMAL X ANORMAL</th>\n",
       "      <th>B2</th>\n",
       "    </tr>\n",
       "  </thead>\n",
       "  <tbody>\n",
       "    <tr>\n",
       "      <th>count</th>\n",
       "      <td>12873</td>\n",
       "      <td>12873</td>\n",
       "      <td>12873</td>\n",
       "      <td>12873</td>\n",
       "    </tr>\n",
       "    <tr>\n",
       "      <th>unique</th>\n",
       "      <td>3</td>\n",
       "      <td>5</td>\n",
       "      <td>3</td>\n",
       "      <td>3</td>\n",
       "    </tr>\n",
       "    <tr>\n",
       "      <th>top</th>\n",
       "      <td>Normais</td>\n",
       "      <td>Desconhecido</td>\n",
       "      <td>Normal</td>\n",
       "      <td>Normal</td>\n",
       "    </tr>\n",
       "    <tr>\n",
       "      <th>freq</th>\n",
       "      <td>11551</td>\n",
       "      <td>10794</td>\n",
       "      <td>6745</td>\n",
       "      <td>11098</td>\n",
       "    </tr>\n",
       "  </tbody>\n",
       "</table>\n",
       "</div>"
      ],
      "text/plain": [
       "         PULSOS           PPA NORMAL X ANORMAL      B2\n",
       "count     12873         12873            12873   12873\n",
       "unique        3             5                3       3\n",
       "top     Normais  Desconhecido           Normal  Normal\n",
       "freq      11551         10794             6745   11098"
      ]
     },
     "execution_count": 56,
     "metadata": {},
     "output_type": "execute_result"
    }
   ],
   "source": [
    "df_selecionado_linha2.describe(include='all')"
   ]
  },
  {
   "cell_type": "code",
   "execution_count": 57,
   "id": "98ae173d",
   "metadata": {},
   "outputs": [
    {
     "name": "stdout",
     "output_type": "stream",
     "text": [
      "=== PULSOS ===\n",
      "PULSOS\n",
      "Normais         11551\n",
      "Desconhecido     1194\n",
      "Anormais          128\n",
      "Name: count, dtype: int64\n",
      "Valores nulos: 0\n",
      "--------------------------------------------------\n",
      "=== PPA ===\n",
      "PPA\n",
      "Desconhecido       10794\n",
      "Normal              1790\n",
      "Pré Hipertensão      121\n",
      "HAS-2                 94\n",
      "HAS-1                 74\n",
      "Name: count, dtype: int64\n",
      "Valores nulos: 0\n",
      "--------------------------------------------------\n",
      "=== NORMAL X ANORMAL ===\n",
      "NORMAL X ANORMAL\n",
      "Normal          6745\n",
      "Anormal         4960\n",
      "Desconhecido    1168\n",
      "Name: count, dtype: int64\n",
      "Valores nulos: 0\n",
      "--------------------------------------------------\n",
      "=== B2 ===\n",
      "B2\n",
      "Normal          11098\n",
      "Desconhecido     1178\n",
      "Anormais          597\n",
      "Name: count, dtype: int64\n",
      "Valores nulos: 0\n",
      "--------------------------------------------------\n"
     ]
    }
   ],
   "source": [
    "# Verificar todas as variáveis categóricas após padronização\n",
    "for coluna in df_selecionado_linha2.columns:\n",
    "    print(f\"=== {coluna} ===\")\n",
    "    print(df_selecionado_linha2[coluna].value_counts())\n",
    "    print(f\"Valores nulos: {df_selecionado_linha2[coluna].isna().sum()}\")\n",
    "    print(\"-\" * 50)"
   ]
  },
  {
   "cell_type": "code",
   "execution_count": 59,
   "id": "b6cfe899",
   "metadata": {},
   "outputs": [
    {
     "name": "stdout",
     "output_type": "stream",
     "text": [
      "DataFrame salvo em: ../../data/clean/dados_limpos_var8-14.csv\n"
     ]
    }
   ],
   "source": [
    "import os\n",
    "output_path = '../../data/clean/dados_limpos_var8-14.csv'\n",
    "\n",
    "os.makedirs(os.path.dirname(output_path), exist_ok=True)\n",
    "\n",
    "df_selecionado_linha2.to_csv(output_path, index=False, encoding='utf-8')\n",
    "print(f\"DataFrame salvo em: {output_path}\")"
   ]
  }
 ],
 "metadata": {
  "kernelspec": {
   "display_name": ".venv (3.12.3)",
   "language": "python",
   "name": "python3"
  },
  "language_info": {
   "codemirror_mode": {
    "name": "ipython",
    "version": 3
   },
   "file_extension": ".py",
   "mimetype": "text/x-python",
   "name": "python",
   "nbconvert_exporter": "python",
   "pygments_lexer": "ipython3",
   "version": "3.12.3"
  }
 },
 "nbformat": 4,
 "nbformat_minor": 5
}
